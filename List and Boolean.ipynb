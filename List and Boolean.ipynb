{
 "cells": [
  {
   "cell_type": "code",
   "execution_count": 1,
   "id": "a07b4e2d",
   "metadata": {},
   "outputs": [],
   "source": [
    "list = ['Ahnaf','Hasnain',2,3,4,'Cse']"
   ]
  },
  {
   "cell_type": "code",
   "execution_count": 2,
   "id": "aa121d00",
   "metadata": {},
   "outputs": [
    {
     "data": {
      "text/plain": [
       "6"
      ]
     },
     "execution_count": 2,
     "metadata": {},
     "output_type": "execute_result"
    }
   ],
   "source": [
    "len(list)"
   ]
  },
  {
   "cell_type": "code",
   "execution_count": 3,
   "id": "ce7043cb",
   "metadata": {},
   "outputs": [],
   "source": [
    "list.append(\"EEE\") ## Append means add elements at the end of the list "
   ]
  },
  {
   "cell_type": "code",
   "execution_count": 4,
   "id": "7db951d4",
   "metadata": {},
   "outputs": [
    {
     "data": {
      "text/plain": [
       "['Ahnaf', 'Hasnain', 2, 3, 4, 'Cse', 'EEE']"
      ]
     },
     "execution_count": 4,
     "metadata": {},
     "output_type": "execute_result"
    }
   ],
   "source": [
    "list"
   ]
  },
  {
   "cell_type": "code",
   "execution_count": 5,
   "id": "dbde2004",
   "metadata": {},
   "outputs": [
    {
     "data": {
      "text/plain": [
       "['Ahnaf', 'Hasnain', 2, 3, 4, 'Cse', 'EEE']"
      ]
     },
     "execution_count": 5,
     "metadata": {},
     "output_type": "execute_result"
    }
   ],
   "source": [
    "list[:]"
   ]
  },
  {
   "cell_type": "code",
   "execution_count": 6,
   "id": "e16668ed",
   "metadata": {},
   "outputs": [
    {
     "data": {
      "text/plain": [
       "['Hasnain', 2, 3]"
      ]
     },
     "execution_count": 6,
     "metadata": {},
     "output_type": "execute_result"
    }
   ],
   "source": [
    "list[1:4]"
   ]
  },
  {
   "cell_type": "code",
   "execution_count": 7,
   "id": "84219619",
   "metadata": {},
   "outputs": [],
   "source": [
    "## Insert"
   ]
  },
  {
   "cell_type": "code",
   "execution_count": 8,
   "id": "d13195a9",
   "metadata": {},
   "outputs": [],
   "source": [
    "list.insert(2,'Nahiun')"
   ]
  },
  {
   "cell_type": "code",
   "execution_count": 9,
   "id": "888fdc70",
   "metadata": {},
   "outputs": [
    {
     "data": {
      "text/plain": [
       "['Ahnaf', 'Hasnain', 'Nahiun', 2, 3, 4, 'Cse', 'EEE']"
      ]
     },
     "execution_count": 9,
     "metadata": {},
     "output_type": "execute_result"
    }
   ],
   "source": [
    "list"
   ]
  },
  {
   "cell_type": "code",
   "execution_count": 38,
   "id": "68d39790",
   "metadata": {},
   "outputs": [
    {
     "name": "stdout",
     "output_type": "stream",
     "text": [
      " olleH\n"
     ]
    }
   ],
   "source": [
    "val =  (\"Hello World\")\n",
    "print(val[5::-1])"
   ]
  },
  {
   "cell_type": "code",
   "execution_count": null,
   "id": "d412726e",
   "metadata": {},
   "outputs": [],
   "source": []
  },
  {
   "cell_type": "code",
   "execution_count": null,
   "id": "7b9cc0d2",
   "metadata": {},
   "outputs": [],
   "source": []
  }
 ],
 "metadata": {
  "kernelspec": {
   "display_name": "Python 3 (ipykernel)",
   "language": "python",
   "name": "python3"
  },
  "language_info": {
   "codemirror_mode": {
    "name": "ipython",
    "version": 3
   },
   "file_extension": ".py",
   "mimetype": "text/x-python",
   "name": "python",
   "nbconvert_exporter": "python",
   "pygments_lexer": "ipython3",
   "version": "3.9.13"
  }
 },
 "nbformat": 4,
 "nbformat_minor": 5
}
