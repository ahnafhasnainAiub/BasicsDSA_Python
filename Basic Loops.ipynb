{
 "cells": [
  {
   "cell_type": "code",
   "execution_count": null,
   "id": "e1b98bd4",
   "metadata": {},
   "outputs": [],
   "source": [
    "-------------------------- Foor Loop --------------------------------"
   ]
  },
  {
   "cell_type": "code",
   "execution_count": 30,
   "id": "991685f4",
   "metadata": {},
   "outputs": [
    {
     "name": "stdout",
     "output_type": "stream",
     "text": [
      "10\n",
      "20\n",
      "30\n",
      "40\n",
      "50\n"
     ]
    }
   ],
   "source": [
    "lis = [10,20,30,40,50]\n",
    "\n",
    "for x in lis:\n",
    "    print(x)"
   ]
  },
  {
   "cell_type": "code",
   "execution_count": null,
   "id": "79cf3912",
   "metadata": {},
   "outputs": [],
   "source": [
    "---------------------------- While Loop ---------------------------------------------"
   ]
  },
  {
   "cell_type": "code",
   "execution_count": 25,
   "id": "f4c90dc9",
   "metadata": {},
   "outputs": [
    {
     "name": "stdout",
     "output_type": "stream",
     "text": [
      "Enter a Number : 5\n",
      "15\n"
     ]
    }
   ],
   "source": [
    "n = int(input(\"Enter a Number : \"))\n",
    "sum = 0\n",
    "i = 1\n",
    "while i <= n:\n",
    "    sum = sum + i\n",
    "    i = i + 1\n",
    "    \n",
    "print(sum)\n"
   ]
  },
  {
   "cell_type": "code",
   "execution_count": null,
   "id": "95d84ea6",
   "metadata": {},
   "outputs": [],
   "source": [
    "num = [55, 65, 75, 85]\n",
    "i = 0\n",
    "while i < 4:\n",
    "    print(num[i])\n",
    "    i = i+1"
   ]
  },
  {
   "cell_type": "code",
   "execution_count": null,
   "id": "94c060cf",
   "metadata": {},
   "outputs": [],
   "source": [
    "val = [10,20,30,40,50]\n",
    "sum = 0\n",
    "for x in val:\n",
    "    sum = sum + x\n",
    "print(sum)"
   ]
  },
  {
   "cell_type": "code",
   "execution_count": null,
   "id": "910bf6af",
   "metadata": {},
   "outputs": [],
   "source": []
  }
 ],
 "metadata": {
  "kernelspec": {
   "display_name": "Python 3 (ipykernel)",
   "language": "python",
   "name": "python3"
  },
  "language_info": {
   "codemirror_mode": {
    "name": "ipython",
    "version": 3
   },
   "file_extension": ".py",
   "mimetype": "text/x-python",
   "name": "python",
   "nbconvert_exporter": "python",
   "pygments_lexer": "ipython3",
   "version": "3.9.13"
  }
 },
 "nbformat": 4,
 "nbformat_minor": 5
}
