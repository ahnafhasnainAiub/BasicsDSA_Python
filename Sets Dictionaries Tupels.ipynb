{
 "cells": [
  {
   "cell_type": "code",
   "execution_count": null,
   "id": "107a78b3",
   "metadata": {},
   "outputs": [],
   "source": [
    "------------------------------ Sets-----------------------------------------"
   ]
  },
  {
   "cell_type": "code",
   "execution_count": null,
   "id": "41ed38b2",
   "metadata": {},
   "outputs": [],
   "source": []
  },
  {
   "cell_type": "code",
   "execution_count": 1,
   "id": "898c1780",
   "metadata": {},
   "outputs": [
    {
     "name": "stdout",
     "output_type": "stream",
     "text": [
      "{1, 2, 3, 4}\n"
     ]
    }
   ],
   "source": [
    "set_var ={1,2,3,4,2}\n",
    "print(set_var)"
   ]
  },
  {
   "cell_type": "code",
   "execution_count": 3,
   "id": "329b522b",
   "metadata": {},
   "outputs": [],
   "source": [
    "set_var.add(\"Ahn\") // Add new element\n"
   ]
  },
  {
   "cell_type": "code",
   "execution_count": 4,
   "id": "c982fbb4",
   "metadata": {},
   "outputs": [
    {
     "name": "stdout",
     "output_type": "stream",
     "text": [
      "{1, 2, 3, 4, 'Ahn'}\n"
     ]
    }
   ],
   "source": [
    "print(set_var)"
   ]
  },
  {
   "cell_type": "code",
   "execution_count": 8,
   "id": "0d0996e4",
   "metadata": {},
   "outputs": [
    {
     "data": {
      "text/plain": [
       "{'Aynan', 'Elham'}"
      ]
     },
     "execution_count": 8,
     "metadata": {},
     "output_type": "execute_result"
    }
   ],
   "source": [
    "set1={\"Ahnaf\",\"Hasnain\",\"Nahiun\"}\n",
    "set2={\"Elham\",\"Ahnaf\",\"Aynan\",\"Hasnain\"}\n",
    "set2.difference(set1)"
   ]
  },
  {
   "cell_type": "code",
   "execution_count": 9,
   "id": "0d55c31e",
   "metadata": {},
   "outputs": [],
   "source": [
    "set2.difference_update(set1)"
   ]
  },
  {
   "cell_type": "code",
   "execution_count": 10,
   "id": "c6b1056b",
   "metadata": {},
   "outputs": [
    {
     "name": "stdout",
     "output_type": "stream",
     "text": [
      "{'Aynan', 'Elham'}\n"
     ]
    }
   ],
   "source": [
    "print(set2)"
   ]
  },
  {
   "cell_type": "code",
   "execution_count": 11,
   "id": "e18d4d96",
   "metadata": {},
   "outputs": [
    {
     "name": "stdout",
     "output_type": "stream",
     "text": [
      "{'Aynan', 'Ahnaf', 'Elham'}\n"
     ]
    }
   ],
   "source": [
    "set2.add('Ahnaf')\n",
    "print(set2)"
   ]
  },
  {
   "cell_type": "code",
   "execution_count": 12,
   "id": "23f1a2d3",
   "metadata": {},
   "outputs": [
    {
     "data": {
      "text/plain": [
       "{'Ahnaf'}"
      ]
     },
     "execution_count": 12,
     "metadata": {},
     "output_type": "execute_result"
    }
   ],
   "source": [
    "set2.intersection(set1) // common elements"
   ]
  },
  {
   "cell_type": "code",
   "execution_count": 13,
   "id": "6c55b87a",
   "metadata": {},
   "outputs": [],
   "source": [
    "set2.intersection_update(set1)"
   ]
  },
  {
   "cell_type": "code",
   "execution_count": 14,
   "id": "1f51a1b6",
   "metadata": {},
   "outputs": [
    {
     "name": "stdout",
     "output_type": "stream",
     "text": [
      "{'Ahnaf'}\n"
     ]
    }
   ],
   "source": [
    "print(set2)"
   ]
  },
  {
   "cell_type": "code",
   "execution_count": null,
   "id": "bf97b8ea",
   "metadata": {},
   "outputs": [],
   "source": []
  },
  {
   "cell_type": "code",
   "execution_count": null,
   "id": "56d3bf48",
   "metadata": {},
   "outputs": [],
   "source": [
    "            --------------------### Dictionaries##----------------------------"
   ]
  },
  {
   "cell_type": "code",
   "execution_count": 15,
   "id": "56373373",
   "metadata": {},
   "outputs": [
    {
     "data": {
      "text/plain": [
       "dict"
      ]
     },
     "execution_count": 15,
     "metadata": {},
     "output_type": "execute_result"
    }
   ],
   "source": [
    "dic={}\n",
    "type(dic)"
   ]
  },
  {
   "cell_type": "code",
   "execution_count": 16,
   "id": "edf4de51",
   "metadata": {},
   "outputs": [
    {
     "data": {
      "text/plain": [
       "dict"
      ]
     },
     "execution_count": 16,
     "metadata": {},
     "output_type": "execute_result"
    }
   ],
   "source": [
    "my_dic= {\"Car1\":\"BMW\", \"Car2\":\"Audi\",\"Car3\":\"Toyota\"}\n",
    "type(my_dic)"
   ]
  },
  {
   "cell_type": "code",
   "execution_count": 17,
   "id": "b209f8ce",
   "metadata": {},
   "outputs": [
    {
     "data": {
      "text/plain": [
       "'Audi'"
      ]
     },
     "execution_count": 17,
     "metadata": {},
     "output_type": "execute_result"
    }
   ],
   "source": [
    "my_dic['Car2']"
   ]
  },
  {
   "cell_type": "code",
   "execution_count": 18,
   "id": "9ebd987a",
   "metadata": {},
   "outputs": [
    {
     "name": "stdout",
     "output_type": "stream",
     "text": [
      "Car1\n",
      "Car2\n",
      "Car3\n"
     ]
    }
   ],
   "source": [
    "for y in my_dic:\n",
    "    print(y)"
   ]
  },
  {
   "cell_type": "code",
   "execution_count": 19,
   "id": "3380a576",
   "metadata": {},
   "outputs": [
    {
     "name": "stdout",
     "output_type": "stream",
     "text": [
      "BMW\n",
      "Audi\n",
      "Toyota\n"
     ]
    }
   ],
   "source": [
    "for x in my_dic.values():\n",
    "    print(x)"
   ]
  },
  {
   "cell_type": "code",
   "execution_count": 20,
   "id": "3d6f0e46",
   "metadata": {},
   "outputs": [
    {
     "name": "stdout",
     "output_type": "stream",
     "text": [
      "('Car1', 'BMW')\n",
      "('Car2', 'Audi')\n",
      "('Car3', 'Toyota')\n"
     ]
    }
   ],
   "source": [
    "for z in my_dic.items():\n",
    "    print(z)"
   ]
  },
  {
   "cell_type": "code",
   "execution_count": 21,
   "id": "257c71d7",
   "metadata": {},
   "outputs": [],
   "source": [
    "my_dic['Car4']='Honda'"
   ]
  },
  {
   "cell_type": "code",
   "execution_count": 22,
   "id": "be088311",
   "metadata": {},
   "outputs": [
    {
     "name": "stdout",
     "output_type": "stream",
     "text": [
      "{'Car1': 'BMW', 'Car2': 'Audi', 'Car3': 'Toyota', 'Car4': 'Honda'}\n"
     ]
    }
   ],
   "source": [
    "print(my_dic)"
   ]
  },
  {
   "cell_type": "code",
   "execution_count": 24,
   "id": "c482d0a0",
   "metadata": {},
   "outputs": [],
   "source": [
    "my_dic['Car1']='DFSK'"
   ]
  },
  {
   "cell_type": "code",
   "execution_count": 25,
   "id": "510b7042",
   "metadata": {},
   "outputs": [
    {
     "name": "stdout",
     "output_type": "stream",
     "text": [
      "{'Car1': 'DFSK', 'Car2': 'Audi', 'Car3': 'Toyota', 'Car4': 'Honda'}\n"
     ]
    }
   ],
   "source": [
    "print(my_dic)"
   ]
  },
  {
   "cell_type": "code",
   "execution_count": null,
   "id": "83d7fab7",
   "metadata": {},
   "outputs": [],
   "source": []
  },
  {
   "cell_type": "code",
   "execution_count": null,
   "id": "6f58d60e",
   "metadata": {},
   "outputs": [],
   "source": [
    "--------------------- Nested dictionaries -----------------------------------------"
   ]
  },
  {
   "cell_type": "code",
   "execution_count": 26,
   "id": "970a4860",
   "metadata": {},
   "outputs": [
    {
     "name": "stdout",
     "output_type": "stream",
     "text": [
      "{'car1': {'Audi': '1970'}, 'car2': {'BMW': '1950'}, 'car3': {'Honda': '1960'}}\n"
     ]
    }
   ],
   "source": [
    "car1_model={\"Audi\":'1970'}\n",
    "car2_model={\"BMW\":'1950'}\n",
    "car3_model={\"Honda\":'1960'}\n",
    "car_type ={'car1':car1_model,'car2':car2_model,'car3':car3_model}\n",
    "print(car_type)"
   ]
  },
  {
   "cell_type": "code",
   "execution_count": 27,
   "id": "3e672a4e",
   "metadata": {},
   "outputs": [
    {
     "name": "stdout",
     "output_type": "stream",
     "text": [
      "{'Audi': '1970'}\n"
     ]
    }
   ],
   "source": [
    "print(car_type['car1'])"
   ]
  },
  {
   "cell_type": "code",
   "execution_count": 28,
   "id": "a8a3f31f",
   "metadata": {},
   "outputs": [
    {
     "name": "stdout",
     "output_type": "stream",
     "text": [
      "1970\n"
     ]
    }
   ],
   "source": [
    "print(car_type['car1']['Audi'])"
   ]
  },
  {
   "cell_type": "code",
   "execution_count": null,
   "id": "43c65918",
   "metadata": {},
   "outputs": [],
   "source": []
  },
  {
   "cell_type": "code",
   "execution_count": null,
   "id": "2224da67",
   "metadata": {},
   "outputs": [],
   "source": [
    "------------------------Tupels---------------------------------------------------------"
   ]
  },
  {
   "cell_type": "code",
   "execution_count": 29,
   "id": "abd91996",
   "metadata": {},
   "outputs": [
    {
     "data": {
      "text/plain": [
       "tuple"
      ]
     },
     "execution_count": 29,
     "metadata": {},
     "output_type": "execute_result"
    }
   ],
   "source": [
    "my_tuples = tuple()\n",
    "type(my_tuples)"
   ]
  },
  {
   "cell_type": "code",
   "execution_count": 30,
   "id": "215d609b",
   "metadata": {},
   "outputs": [
    {
     "name": "stdout",
     "output_type": "stream",
     "text": [
      "('ahnaf', 'hasnain', 'nahiun')\n"
     ]
    }
   ],
   "source": [
    "my_tuples =(\"ahnaf\",\"hasnain\",\"nahiun\")\n",
    "print(my_tuples)"
   ]
  },
  {
   "cell_type": "code",
   "execution_count": 31,
   "id": "7d46e1c4",
   "metadata": {},
   "outputs": [
    {
     "name": "stdout",
     "output_type": "stream",
     "text": [
      "('ahnaf', 'hasnain', 'nahiun', 'ahnaf')\n"
     ]
    }
   ],
   "source": [
    "my_tuples =(\"ahnaf\",\"hasnain\",\"nahiun\",\"ahnaf\")\n",
    "print(my_tuples)"
   ]
  },
  {
   "cell_type": "code",
   "execution_count": 32,
   "id": "4b3844b2",
   "metadata": {},
   "outputs": [
    {
     "data": {
      "text/plain": [
       "2"
      ]
     },
     "execution_count": 32,
     "metadata": {},
     "output_type": "execute_result"
    }
   ],
   "source": [
    "my_tuples.count('ahnaf') // how many ahnaf "
   ]
  },
  {
   "cell_type": "code",
   "execution_count": 33,
   "id": "dc418607",
   "metadata": {},
   "outputs": [
    {
     "data": {
      "text/plain": [
       "2"
      ]
     },
     "execution_count": 33,
     "metadata": {},
     "output_type": "execute_result"
    }
   ],
   "source": [
    "my_tuples.index('nahiun')"
   ]
  },
  {
   "cell_type": "code",
   "execution_count": 35,
   "id": "dff43425",
   "metadata": {},
   "outputs": [
    {
     "data": {
      "text/plain": [
       "1"
      ]
     },
     "execution_count": 35,
     "metadata": {},
     "output_type": "execute_result"
    }
   ],
   "source": [
    "my_tuples.index('hasnain')"
   ]
  },
  {
   "cell_type": "code",
   "execution_count": null,
   "id": "4989e412",
   "metadata": {},
   "outputs": [],
   "source": []
  }
 ],
 "metadata": {
  "kernelspec": {
   "display_name": "Python 3 (ipykernel)",
   "language": "python",
   "name": "python3"
  },
  "language_info": {
   "codemirror_mode": {
    "name": "ipython",
    "version": 3
   },
   "file_extension": ".py",
   "mimetype": "text/x-python",
   "name": "python",
   "nbconvert_exporter": "python",
   "pygments_lexer": "ipython3",
   "version": "3.9.13"
  }
 },
 "nbformat": 4,
 "nbformat_minor": 5
}
