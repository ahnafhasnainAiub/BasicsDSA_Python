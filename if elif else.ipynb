{
 "cells": [
  {
   "cell_type": "code",
   "execution_count": 26,
   "id": "63065338",
   "metadata": {},
   "outputs": [
    {
     "name": "stdout",
     "output_type": "stream",
     "text": [
      "Enter your Age : 56\n",
      "Total Accident : 5\n",
      "You can drive, You are in Danger\n"
     ]
    }
   ],
   "source": [
    "age  = int(input(\"Enter your Age : \"))\n",
    "\n",
    "if (age > 0 and age < 18):\n",
    "    print(\"You can not drive \")\n",
    "elif age == 18:\n",
    "    print(\"Apply for License \")\n",
    "elif (age > 18 and age < 100):\n",
    "    accd = int(input(\"Total Accident : \"))\n",
    "    if accd == 0:\n",
    "        print(\"You can Drive\")\n",
    "    elif (accd > 0 and accd <= 5):\n",
    "        print(\"You can drive, You are in Danger\")\n",
    "    elif (accd > 5 and accd < 10):\n",
    "        print(\"You can not drive your License in suspended\")\n",
    "    else:\n",
    "        print(\"Invalid Accident History\")        \n",
    "else:\n",
    "    print(\"Invalid Age \")        "
   ]
  }
 ],
 "metadata": {
  "kernelspec": {
   "display_name": "Python 3 (ipykernel)",
   "language": "python",
   "name": "python3"
  },
  "language_info": {
   "codemirror_mode": {
    "name": "ipython",
    "version": 3
   },
   "file_extension": ".py",
   "mimetype": "text/x-python",
   "name": "python",
   "nbconvert_exporter": "python",
   "pygments_lexer": "ipython3",
   "version": "3.9.13"
  }
 },
 "nbformat": 4,
 "nbformat_minor": 5
}
