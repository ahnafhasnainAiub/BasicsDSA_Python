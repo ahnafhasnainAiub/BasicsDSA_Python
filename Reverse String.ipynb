{
 "cells": [
  {
   "cell_type": "markdown",
   "id": "3f12bba3",
   "metadata": {},
   "source": [
    "# Reverse String Using Extended Slicing"
   ]
  },
  {
   "cell_type": "code",
   "execution_count": 13,
   "id": "0dab1b16",
   "metadata": {},
   "outputs": [
    {
     "name": "stdout",
     "output_type": "stream",
     "text": [
      "niansaH\n"
     ]
    }
   ],
   "source": [
    "inputStr = 'Hasnain'\n",
    "print(inputStr[-1::-1])"
   ]
  },
  {
   "cell_type": "markdown",
   "id": "8625c654",
   "metadata": {},
   "source": [
    "# Using For Loop"
   ]
  },
  {
   "cell_type": "code",
   "execution_count": 12,
   "id": "0c91c57e",
   "metadata": {},
   "outputs": [
    {
     "name": "stdout",
     "output_type": "stream",
     "text": [
      "fanhA\n"
     ]
    }
   ],
   "source": [
    "myStr1 = 'Ahnaf'\n",
    "myStr2 = ''\n",
    "\n",
    "for i in range (len(myStr1)-1,-1,-1):\n",
    "    myStr2 = myStr2 + myStr1[i]\n",
    "    \n",
    "print(myStr2)"
   ]
  },
  {
   "cell_type": "markdown",
   "id": "43f140de",
   "metadata": {},
   "source": [
    "# Using Reversed Function"
   ]
  },
  {
   "cell_type": "code",
   "execution_count": 21,
   "id": "a13057b3",
   "metadata": {},
   "outputs": [
    {
     "name": "stdout",
     "output_type": "stream",
     "text": [
      "nuihaN\n"
     ]
    }
   ],
   "source": [
    "myStr = 'Nahiun'\n",
    "reversedStr = reversed(myStr)\n",
    "print(''.join(reversedStr))"
   ]
  },
  {
   "cell_type": "code",
   "execution_count": null,
   "id": "f880ea5e",
   "metadata": {},
   "outputs": [],
   "source": []
  }
 ],
 "metadata": {
  "kernelspec": {
   "display_name": "Python 3 (ipykernel)",
   "language": "python",
   "name": "python3"
  },
  "language_info": {
   "codemirror_mode": {
    "name": "ipython",
    "version": 3
   },
   "file_extension": ".py",
   "mimetype": "text/x-python",
   "name": "python",
   "nbconvert_exporter": "python",
   "pygments_lexer": "ipython3",
   "version": "3.9.13"
  }
 },
 "nbformat": 4,
 "nbformat_minor": 5
}
