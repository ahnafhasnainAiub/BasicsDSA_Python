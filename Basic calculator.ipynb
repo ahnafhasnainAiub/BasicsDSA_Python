{
 "cells": [
  {
   "cell_type": "code",
   "execution_count": null,
   "id": "5b3fa170",
   "metadata": {},
   "outputs": [],
   "source": [
    "def add(a,b):\n",
    "    return a + b\n",
    "def sub(a,b):\n",
    "    return a - b\n",
    "def mal(a,b):\n",
    "    return a * b\n",
    "def div(a,b):\n",
    "    return a / b\n",
    "while True:\n",
    "    \n",
    "    print(\"select 1 for Addition\")\n",
    "    print(\"select 2 for Subraction\")\n",
    "    print(\"select 3 for Multiplication\")\n",
    "    print(\"Select 4 for Division\")\n",
    "    \n",
    "    select = input(\"Select a Number :  \")\n",
    "    num1 = float(input(\"Input first Number = \"))\n",
    "    num2 = float(input(\"Input second Number = \"))\n",
    "    \n",
    "    if select == '1':\n",
    "        print(num1,\"+\",num2,\" = \" ,add(num1,num2))\n",
    "    elif select == '2':\n",
    "        print(num1,\"-\",num2,\" = \" ,sub(num1,num2))\n",
    "    elif select == '3':\n",
    "        print(num1,\"*\",num2,\" = \" ,mal(num1,num2))\n",
    "    elif select == '4':\n",
    "        print(num1,\"/\",num2,\" = \" ,div(num1,num2))\n",
    "    else:\n",
    "        print(\"Invalid Input Given\")\n",
    "        \n",
    "    cont = input(\"Do you want to continue? (y/n)\")\n",
    "    if cont == 'n':\n",
    "        break"
   ]
  },
  {
   "cell_type": "code",
   "execution_count": null,
   "id": "d1d3fe0c",
   "metadata": {},
   "outputs": [],
   "source": []
  },
  {
   "cell_type": "code",
   "execution_count": null,
   "id": "ec05dbdc",
   "metadata": {},
   "outputs": [],
   "source": []
  }
 ],
 "metadata": {
  "kernelspec": {
   "display_name": "Python 3 (ipykernel)",
   "language": "python",
   "name": "python3"
  },
  "language_info": {
   "codemirror_mode": {
    "name": "ipython",
    "version": 3
   },
   "file_extension": ".py",
   "mimetype": "text/x-python",
   "name": "python",
   "nbconvert_exporter": "python",
   "pygments_lexer": "ipython3",
   "version": "3.9.13"
  }
 },
 "nbformat": 4,
 "nbformat_minor": 5
}
