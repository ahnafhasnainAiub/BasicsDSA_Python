{
 "cells": [
  {
   "cell_type": "code",
   "execution_count": 10,
   "id": "67756f7e",
   "metadata": {},
   "outputs": [
    {
     "name": "stdout",
     "output_type": "stream",
     "text": [
      "Enter a number :6\n",
      "The factorial number of  6 is 720\n"
     ]
    }
   ],
   "source": [
    "if __name__ == '__main__':\n",
    "\n",
    "    number = int(input(\"Enter a number :\"))\n",
    "    factorial = 1\n",
    "    if number < 0:\n",
    "        print(\"You gave a wrong factorial number\")\n",
    "    \n",
    "    elif number == 0:\n",
    "        print(1)\n",
    "\n",
    "    else :\n",
    "        for i in range(1,number+1):\n",
    "               factorial = factorial * i\n",
    "        \n",
    "    print(\"The factorial number of \",number,\"is\",factorial)"
   ]
  },
  {
   "cell_type": "code",
   "execution_count": null,
   "id": "65d6f0be",
   "metadata": {},
   "outputs": [],
   "source": []
  }
 ],
 "metadata": {
  "kernelspec": {
   "display_name": "Python 3 (ipykernel)",
   "language": "python",
   "name": "python3"
  },
  "language_info": {
   "codemirror_mode": {
    "name": "ipython",
    "version": 3
   },
   "file_extension": ".py",
   "mimetype": "text/x-python",
   "name": "python",
   "nbconvert_exporter": "python",
   "pygments_lexer": "ipython3",
   "version": "3.9.13"
  }
 },
 "nbformat": 4,
 "nbformat_minor": 5
}
