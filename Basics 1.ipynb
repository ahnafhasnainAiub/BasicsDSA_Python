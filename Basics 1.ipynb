{
 "cells": [
  {
   "cell_type": "code",
   "execution_count": 2,
   "id": "41c3262f",
   "metadata": {},
   "outputs": [
    {
     "name": "stdout",
     "output_type": "stream",
     "text": [
      "Ahnaf Hasnain ..\n"
     ]
    }
   ],
   "source": [
    "print(\"Ahnaf Hasnain ..\")"
   ]
  },
  {
   "cell_type": "code",
   "execution_count": 1,
   "id": "2405ebe7",
   "metadata": {},
   "outputs": [
    {
     "name": "stdout",
     "output_type": "stream",
     "text": [
      "Total sum = 11\n"
     ]
    }
   ],
   "source": [
    "a = 5\n",
    "b = 6\n",
    "c = a+b\n",
    "print(\"Total sum =\",c)"
   ]
  },
  {
   "cell_type": "code",
   "execution_count": 6,
   "id": "0ddf60a8",
   "metadata": {},
   "outputs": [
    {
     "name": "stdout",
     "output_type": "stream",
     "text": [
      "My First name is Ahnaf and my second name is Nahiun \n"
     ]
    }
   ],
   "source": [
    "first_name = 'Ahnaf'\n",
    "last_name  = 'Nahiun'\n",
    "print(\"My First name is {} and my second name is {} \".format(first_name,last_name))"
   ]
  },
  {
   "cell_type": "code",
   "execution_count": 7,
   "id": "518cfac5",
   "metadata": {},
   "outputs": [
    {
     "data": {
      "text/plain": [
       "5"
      ]
     },
     "execution_count": 7,
     "metadata": {},
     "output_type": "execute_result"
    }
   ],
   "source": [
    "len(\"Ahnaf\")"
   ]
  },
  {
   "cell_type": "code",
   "execution_count": 8,
   "id": "822c6c2e",
   "metadata": {},
   "outputs": [
    {
     "data": {
      "text/plain": [
       "str"
      ]
     },
     "execution_count": 8,
     "metadata": {},
     "output_type": "execute_result"
    }
   ],
   "source": [
    "type(\"Ahnaf\")"
   ]
  },
  {
   "cell_type": "code",
   "execution_count": 9,
   "id": "57d3f6c7",
   "metadata": {},
   "outputs": [
    {
     "data": {
      "text/plain": [
       "int"
      ]
     },
     "execution_count": 9,
     "metadata": {},
     "output_type": "execute_result"
    }
   ],
   "source": [
    "type(5)"
   ]
  },
  {
   "cell_type": "code",
   "execution_count": 10,
   "id": "df66b456",
   "metadata": {},
   "outputs": [
    {
     "data": {
      "text/plain": [
       "list"
      ]
     },
     "execution_count": 10,
     "metadata": {},
     "output_type": "execute_result"
    }
   ],
   "source": [
    "type(['a',2,3,4])"
   ]
  },
  {
   "cell_type": "code",
   "execution_count": 12,
   "id": "89c304a4",
   "metadata": {
    "scrolled": true
   },
   "outputs": [
    {
     "data": {
      "text/plain": [
       "bool"
      ]
     },
     "execution_count": 12,
     "metadata": {},
     "output_type": "execute_result"
    }
   ],
   "source": [
    "type(False)"
   ]
  },
  {
   "cell_type": "code",
   "execution_count": null,
   "id": "fd030523",
   "metadata": {},
   "outputs": [],
   "source": [
    "my_str = 'AHNAF123N'"
   ]
  },
  {
   "cell_type": "code",
   "execution_count": 18,
   "id": "616793d1",
   "metadata": {},
   "outputs": [
    {
     "name": "stdout",
     "output_type": "stream",
     "text": [
      "True\n",
      "False\n",
      "False\n",
      "True\n",
      "True\n"
     ]
    }
   ],
   "source": [
    "my_str = 'AHNAF123N'\n",
    "print(my_str.isalnum())\n",
    "print(my_str.isalpha())  #CECK FUNCTIONS \n",
    "print(my_str.isdigit())\n",
    "print(my_str.startswith('A'))\n",
    "print(my_str.endswith('N'))"
   ]
  },
  {
   "cell_type": "code",
   "execution_count": 1,
   "id": "41ac1133",
   "metadata": {},
   "outputs": [
    {
     "name": "stdout",
     "output_type": "stream",
     "text": [
      "42\n"
     ]
    }
   ],
   "source": [
    "x,y = 2, 10\n",
    "x *= y * x +1\n",
    "print(x)"
   ]
  },
  {
   "cell_type": "code",
   "execution_count": 8,
   "id": "43232515",
   "metadata": {},
   "outputs": [
    {
     "name": "stdout",
     "output_type": "stream",
     "text": [
      "5\n",
      "This is a method of class A\n",
      "10\n",
      "This is a method of class A\n",
      "This is another method of class B\n"
     ]
    }
   ],
   "source": [
    "class A:\n",
    "    def __init__(self, value):\n",
    "        self.value = value\n",
    "\n",
    "    def method(self):\n",
    "        print(\"This is a method of class A\")\n",
    "        \n",
    "class B(A):\n",
    "    def another_method(self):\n",
    "        print(\"This is another method of class B\")\n",
    "\n",
    "# Creating objects of both classes\n",
    "objA = A(5)\n",
    "objB = B(10)\n",
    "\n",
    "# Accessing attributes and methods of objects\n",
    "print(objA.value)       # Output: 5\n",
    "objA.method()           # Output: \"This is a method of class A\"\n",
    "\n",
    "print(objB.value)       # Output: 10 (inherited from A)\n",
    "objB.method()           # Output: \"This is a method of class A\" (inherited from A)\n",
    "objB.another_method()   # Output: \"This is another method of class B\"\n"
   ]
  },
  {
   "cell_type": "code",
   "execution_count": null,
   "id": "a54cc794",
   "metadata": {},
   "outputs": [],
   "source": []
  }
 ],
 "metadata": {
  "kernelspec": {
   "display_name": "Python 3 (ipykernel)",
   "language": "python",
   "name": "python3"
  },
  "language_info": {
   "codemirror_mode": {
    "name": "ipython",
    "version": 3
   },
   "file_extension": ".py",
   "mimetype": "text/x-python",
   "name": "python",
   "nbconvert_exporter": "python",
   "pygments_lexer": "ipython3",
   "version": "3.9.13"
  }
 },
 "nbformat": 4,
 "nbformat_minor": 5
}
