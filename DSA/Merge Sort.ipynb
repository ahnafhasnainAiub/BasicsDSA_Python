{
 "cells": [
  {
   "cell_type": "code",
   "execution_count": 6,
   "id": "ac6d8117",
   "metadata": {},
   "outputs": [
    {
     "name": "stdout",
     "output_type": "stream",
     "text": [
      "[5, 7, 8, 9, 12, 45, 52, 56, 32, 97]\n"
     ]
    }
   ],
   "source": [
    "def merge_two_sorted_list(a,b):\n",
    "    sorted_list = []\n",
    "    len_a = len(a)\n",
    "    len_b = len(b)\n",
    "    i=j=0\n",
    "                                                 # Two sorted list merge \n",
    "    while i<len_a and j<len_b:\n",
    "        if a[i] <= b[j]:\n",
    "            sorted_list.append(a[i])\n",
    "            i += 1\n",
    "        else:\n",
    "            sorted_list.append(b[j])\n",
    "            j += 1\n",
    "            \n",
    "    while i<len_a:\n",
    "        sorted_list.append(a[i])\n",
    "        i +=1 \n",
    "    while j<len_b:\n",
    "        sorted_list.append(b[j])\n",
    "        j += 1\n",
    "        \n",
    "    return sorted_list\n",
    "\n",
    "if  __name__ == '__main__':\n",
    "        a =[5,8,12,56,32,97]\n",
    "        b =[7,9,45,52]\n",
    "        merge_two_sorted_list(a,b)\n",
    "        print( merge_two_sorted_list(a,b))"
   ]
  },
  {
   "cell_type": "code",
   "execution_count": 8,
   "id": "188ea05f",
   "metadata": {},
   "outputs": [
    {
     "name": "stdout",
     "output_type": "stream",
     "text": [
      "[1, 5, 8, 9, 11, 12, 32, 56, 97, 123]\n"
     ]
    }
   ],
   "source": [
    "def merge_sort(arr):\n",
    "    if len(arr) <= 1:\n",
    "        return arr\n",
    "    mid = len(arr)//2\n",
    "    left = arr[:mid]\n",
    "    right = arr[mid:]\n",
    "    \n",
    "    left = merge_sort(left)\n",
    "    right = merge_sort(right)\n",
    "    \n",
    "    return merge_two_sorted_list(left,right)\n",
    "    \n",
    "\n",
    "def merge_two_sorted_list(a,b):\n",
    "    sorted_list = []\n",
    "    len_a = len(a)\n",
    "    len_b = len(b)\n",
    "    i=j=0\n",
    "                                                 # One Unsorted list merge \n",
    "    while i<len_a and j<len_b:\n",
    "        if a[i] <= b[j]:\n",
    "            sorted_list.append(a[i])\n",
    "            i += 1\n",
    "        else:\n",
    "            sorted_list.append(b[j])\n",
    "            j += 1\n",
    "            \n",
    "    while i<len_a:\n",
    "        sorted_list.append(a[i])\n",
    "        i +=1 \n",
    "    while j<len_b:\n",
    "        sorted_list.append(b[j])\n",
    "        j += 1\n",
    "        \n",
    "    return sorted_list\n",
    "\n",
    "if  __name__ == '__main__':\n",
    "        arr =[5,11,8,1,12,56,123,32,97,9]\n",
    "        print(merge_sort(arr))\n",
    "        "
   ]
  },
  {
   "cell_type": "code",
   "execution_count": 13,
   "id": "c0cebcb4",
   "metadata": {},
   "outputs": [
    {
     "name": "stdout",
     "output_type": "stream",
     "text": [
      "[1, 5, 8, 9, 11, 12, 32, 56, 97, 123]\n",
      "[]\n",
      "[4]\n",
      "[1, 2, 3, 5, 9]\n",
      "[1, 2, 3, 4, 5, 6, 7]\n"
     ]
    }
   ],
   "source": [
    "def merge_sort(arr):\n",
    "    if len(arr) <= 1:\n",
    "        return arr\n",
    "    mid = len(arr)//2\n",
    "    left = arr[:mid]\n",
    "    right = arr[mid:]\n",
    "    \n",
    "    merge_sort(left)\n",
    "    merge_sort(right)\n",
    "    \n",
    "    merge_two_sorted_list(left,right,arr)\n",
    "    \n",
    "\n",
    "def merge_two_sorted_list(a,b,arr):\n",
    "    sorted_list = []\n",
    "    len_a = len(a)\n",
    "    len_b = len(b)\n",
    "    i=j=k=0\n",
    "                                                 # One Unsorted list merge With less time and space coplexity \n",
    "    while i<len_a and j<len_b:\n",
    "        if a[i] <= b[j]:\n",
    "            arr[k]= a[i]\n",
    "            i += 1\n",
    "            k += 1\n",
    "        else:\n",
    "            arr[k] = b[j]\n",
    "            j += 1\n",
    "            k += 1\n",
    "    while i<len_a:\n",
    "        arr[k] = a[i]\n",
    "        i +=1 \n",
    "        k += 1\n",
    "    while j<len_b:\n",
    "        arr[k] = b[j]\n",
    "        j += 1\n",
    "        k += 1\n",
    "    return sorted_list\n",
    "\n",
    "#if  __name__ == '__main__':\n",
    " #       arr =[5,11,8,1,12,56,123,32,97,9]                       # for one unsorted list\n",
    "  #      merge_sort(arr)\n",
    "   #     print(arr)\n",
    "    \n",
    "    \n",
    "if  __name__ == '__main__':\n",
    "        test_case = [\n",
    "            \n",
    "            [5,11,8,1,12,56,123,32,97,9],                         # for set of list\n",
    "            [],\n",
    "            [4],\n",
    "            [3,5,2,9,1],\n",
    "            [1,2,3,4,5,6,7]\n",
    "        ]\n",
    "        \n",
    "        for arr in test_case:\n",
    "            merge_sort(arr)\n",
    "            print(arr)"
   ]
  },
  {
   "cell_type": "code",
   "execution_count": null,
   "id": "d7af1da8",
   "metadata": {},
   "outputs": [],
   "source": [
    "if  __name__ == '__main__':\n",
    "        test_case = [\n",
    "            \n",
    "            [5,11,8,1,12,56,123,32,97,9]'\n",
    "            [],\n",
    "            [4],\n",
    "            [3,5,2,9,1],\n",
    "            [1,2,3,4,5,6,7]\n",
    "        ]\n",
    "        \n",
    "        for arr in test_case:\n",
    "        merge_sort(arr)\n",
    "        print(arr)"
   ]
  }
 ],
 "metadata": {
  "kernelspec": {
   "display_name": "Python 3 (ipykernel)",
   "language": "python",
   "name": "python3"
  },
  "language_info": {
   "codemirror_mode": {
    "name": "ipython",
    "version": 3
   },
   "file_extension": ".py",
   "mimetype": "text/x-python",
   "name": "python",
   "nbconvert_exporter": "python",
   "pygments_lexer": "ipython3",
   "version": "3.9.13"
  }
 },
 "nbformat": 4,
 "nbformat_minor": 5
}
