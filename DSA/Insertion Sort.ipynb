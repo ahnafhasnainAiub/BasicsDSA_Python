{
 "cells": [
  {
   "cell_type": "code",
   "execution_count": 7,
   "id": "f9da9617",
   "metadata": {},
   "outputs": [
    {
     "name": "stdout",
     "output_type": "stream",
     "text": [
      "[1, 2, 3, 34, 55, 86]\n"
     ]
    }
   ],
   "source": [
    "def insertion_sort(elements):\n",
    "    for i in range(1,len(elements)):\n",
    "        anchor = elements[i]\n",
    "        j = i-1\n",
    "        while j>=0 and anchor < elements[j]:\n",
    "            elements[j+1]= elements[j]\n",
    "            j = j-1\n",
    "        elements[j+1]= anchor\n",
    "        \n",
    "if __name__ == '__main__':\n",
    "    elements = [2,3,86,34,1,55]\n",
    "    insertion_sort(elements)\n",
    "    print(elements)\n",
    "    "
   ]
  },
  {
   "cell_type": "code",
   "execution_count": null,
   "id": "9e41e5bf",
   "metadata": {},
   "outputs": [],
   "source": []
  },
  {
   "cell_type": "code",
   "execution_count": null,
   "id": "a9ca8923",
   "metadata": {},
   "outputs": [],
   "source": []
  }
 ],
 "metadata": {
  "kernelspec": {
   "display_name": "Python 3 (ipykernel)",
   "language": "python",
   "name": "python3"
  },
  "language_info": {
   "codemirror_mode": {
    "name": "ipython",
    "version": 3
   },
   "file_extension": ".py",
   "mimetype": "text/x-python",
   "name": "python",
   "nbconvert_exporter": "python",
   "pygments_lexer": "ipython3",
   "version": "3.9.13"
  }
 },
 "nbformat": 4,
 "nbformat_minor": 5
}
