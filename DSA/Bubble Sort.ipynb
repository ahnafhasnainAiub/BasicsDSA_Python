{
 "cells": [
  {
   "cell_type": "code",
   "execution_count": 19,
   "id": "99404cce",
   "metadata": {},
   "outputs": [
    {
     "name": "stdout",
     "output_type": "stream",
     "text": [
      "[1, 2, 3, 4]\n"
     ]
    }
   ],
   "source": [
    "def bubble_sort(num ):\n",
    "    size = len(num)\n",
    "    for i in range(size-1): \n",
    "        swapped = False\n",
    "        for j in range (size-1-i): # to save some time 'size-1-i'\n",
    "            if num[j] > num[j+1] :\n",
    "                tmp = num[j]\n",
    "                num[j]= num[j+1]\n",
    "                num[j+1]=tmp\n",
    "                swapped =True\n",
    "            if not swapped:\n",
    "                break\n",
    "    \n",
    "if __name__ == '__main__':                \n",
    "    numbers = [1,2,3,4]\n",
    "    bubble_sort(numbers)\n",
    "    print(numbers)\n",
    "        "
   ]
  },
  {
   "cell_type": "code",
   "execution_count": null,
   "id": "b0fe8fb8",
   "metadata": {},
   "outputs": [],
   "source": []
  },
  {
   "cell_type": "code",
   "execution_count": null,
   "id": "a94797c8",
   "metadata": {},
   "outputs": [],
   "source": []
  }
 ],
 "metadata": {
  "kernelspec": {
   "display_name": "Python 3 (ipykernel)",
   "language": "python",
   "name": "python3"
  },
  "language_info": {
   "codemirror_mode": {
    "name": "ipython",
    "version": 3
   },
   "file_extension": ".py",
   "mimetype": "text/x-python",
   "name": "python",
   "nbconvert_exporter": "python",
   "pygments_lexer": "ipython3",
   "version": "3.9.13"
  }
 },
 "nbformat": 4,
 "nbformat_minor": 5
}
